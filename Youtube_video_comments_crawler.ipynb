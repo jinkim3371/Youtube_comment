{
 "cells": [
  {
   "cell_type": "code",
   "execution_count": null,
   "metadata": {
    "colab": {
     "base_uri": "https://localhost:8080/"
    },
    "id": "lZA-FEdTt9k0",
    "outputId": "b32a4659-6c99-42d4-d1b4-7eddffa81a26"
   },
   "outputs": [],
   "source": [
    "!pip install python-youtube"
   ]
  },
  {
   "cell_type": "markdown",
   "metadata": {
    "id": "aRpE167ouHWH"
   },
   "source": [
    "## YouTube API Package\n",
    "(python-yoube를 사용하기 위해선 API Key를 발급 받아야함. 아래 링크 참고)\n",
    "\n",
    "Get API key: https://console.developers.google.com/\n",
    "\n",
    "python-youtube: https://pypi.org/project/python-youtube/\n",
    "\n",
    "YouTube commentThreads API doc: https://developers.google.com/youtube/v3/docs/commentThreads/list"
   ]
  },
  {
   "cell_type": "code",
   "execution_count": null,
   "metadata": {
    "id": "TfRnt5KpuKF1"
   },
   "outputs": [],
   "source": [
    "from pyyoutube import Api\n",
    "\n",
    "api_key = 'YOUR_API_key_Here'    #위 구글 디벨로퍼 링크를 통해 Youtube python API키를 발급받아야함.\n",
    "api = Api(api_key=api_key)"
   ]
  },
  {
   "cell_type": "markdown",
   "metadata": {
    "id": "JLfFVD60AsoM"
   },
   "source": [
    "### Youtube Video 아이디를 입력해서 특정 비디오의 모든 코멘트를 가져옴"
   ]
  },
  {
   "cell_type": "code",
   "execution_count": null,
   "metadata": {
    "colab": {
     "base_uri": "https://localhost:8080/"
    },
    "id": "MJXSQMBewFps",
    "outputId": "7e202c5c-a9cb-4be6-8825-70cba0bae89d"
   },
   "outputs": [],
   "source": [
    "ct_by_video = api.get_comment_threads(\n",
    "    video_id=\"jykW3AX8pEE\",          # 비디오 ID                      \n",
    "    count=None)\n",
    "\n",
    "ct_by_video"
   ]
  },
  {
   "cell_type": "code",
   "execution_count": null,
   "metadata": {
    "colab": {
     "base_uri": "https://localhost:8080/"
    },
    "id": "WqcwTsaaxTAz",
    "outputId": "7ab0f87c-4048-4a85-d578-b0aed803e487"
   },
   "outputs": [],
   "source": [
    "len(ct_by_video.items) #Show number of crawled comments"
   ]
  },
  {
   "cell_type": "code",
   "execution_count": null,
   "metadata": {
    "colab": {
     "base_uri": "https://localhost:8080/",
     "height": 35
    },
    "id": "AQuixEVkxifa",
    "outputId": "adcc7173-5b4e-4354-e076-1ba2a7f119e7"
   },
   "outputs": [],
   "source": [
    "ct_by_video.items[1].snippet.topLevelComment.snippet.textOriginal      #show a sample comment"
   ]
  },
  {
   "cell_type": "markdown",
   "metadata": {},
   "source": [
    "### 수집한 댓글을 구글 드라이브에 저장"
   ]
  },
  {
   "cell_type": "code",
   "execution_count": null,
   "metadata": {
    "colab": {
     "base_uri": "https://localhost:8080/"
    },
    "id": "wKUmr5jozY6A",
    "outputId": "a57e8c1b-69ad-4303-d968-6e903d824c7f"
   },
   "outputs": [],
   "source": [
    "from google.colab import drive\n",
    "drive.mount('/drive')"
   ]
  },
  {
   "cell_type": "code",
   "execution_count": null,
   "metadata": {
    "id": "377ujvaty2nj"
   },
   "outputs": [],
   "source": [
    "with open('/drive/My Drive/file_name.txt', 'w') as f:\n",
    "    for item in ct_by_video.items:\n",
    "        comment = item.snippet.topLevelComment.snippet.textOriginal.replace('\\n', ' ').replace('\\r', ' ')\n",
    "        if len(comment) > 5:     #To eliminate immaterial comments // 길이가 5글자 이상 되는 댓글만 저장\n",
    "          f.write(comment + '\\n')"
   ]
  }
 ],
 "metadata": {
  "colab": {
   "provenance": []
  },
  "kernelspec": {
   "display_name": "Python 3",
   "language": "python",
   "name": "python3"
  },
  "language_info": {
   "codemirror_mode": {
    "name": "ipython",
    "version": 3
   },
   "file_extension": ".py",
   "mimetype": "text/x-python",
   "name": "python",
   "nbconvert_exporter": "python",
   "pygments_lexer": "ipython3",
   "version": "3.7.3"
  }
 },
 "nbformat": 4,
 "nbformat_minor": 1
}
